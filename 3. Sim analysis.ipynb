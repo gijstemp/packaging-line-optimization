{
 "cells": [
  {
   "cell_type": "code",
   "execution_count": 1,
   "id": "d8bbec60",
   "metadata": {},
   "outputs": [
    {
     "data": {
      "text/html": [
       "<style>.container { width:65% !important; }</style>"
      ],
      "text/plain": [
       "<IPython.core.display.HTML object>"
      ]
     },
     "metadata": {},
     "output_type": "display_data"
    }
   ],
   "source": [
    "from IPython.display import display, HTML\n",
    "display(HTML(\"<style>.container { width:65% !important; }</style>\"))"
   ]
  },
  {
   "cell_type": "code",
   "execution_count": 2,
   "id": "a8566a03",
   "metadata": {},
   "outputs": [],
   "source": [
    "import numpy as np\n",
    "import pandas as pd\n",
    "import math\n",
    "import matplotlib.pyplot as plt\n",
    "import seaborn as sns\n",
    "# SNS styles\n",
    "sns.set(style=\"darkgrid\")\n",
    "sns.set_palette(\"cubehelix\")\n",
    "import random\n",
    "import simpy\n",
    "import statistics\n",
    "from scipy import stats\n",
    "from dataclasses import dataclass\n",
    "from typing import List, Dict, Callable, Union, Any, Tuple\n",
    "from datetime import datetime\n",
    "import warnings\n",
    "warnings.simplefilter(action='ignore', category=FutureWarning)"
   ]
  },
  {
   "cell_type": "code",
   "execution_count": 3,
   "id": "05112b39",
   "metadata": {},
   "outputs": [
    {
     "data": {
      "text/html": [
       "<div>\n",
       "<style scoped>\n",
       "    .dataframe tbody tr th:only-of-type {\n",
       "        vertical-align: middle;\n",
       "    }\n",
       "\n",
       "    .dataframe tbody tr th {\n",
       "        vertical-align: top;\n",
       "    }\n",
       "\n",
       "    .dataframe thead th {\n",
       "        text-align: right;\n",
       "    }\n",
       "</style>\n",
       "<table border=\"1\" class=\"dataframe\">\n",
       "  <thead>\n",
       "    <tr style=\"text-align: right;\">\n",
       "      <th></th>\n",
       "      <th>Time</th>\n",
       "      <th>Machine</th>\n",
       "      <th>State</th>\n",
       "      <th>Set speed</th>\n",
       "      <th>Actual speed</th>\n",
       "      <th>Count</th>\n",
       "      <th>Tailback</th>\n",
       "      <th>Lack</th>\n",
       "      <th>Simulation</th>\n",
       "    </tr>\n",
       "  </thead>\n",
       "  <tbody>\n",
       "    <tr>\n",
       "      <th>43299995</th>\n",
       "      <td>480.0</td>\n",
       "      <td>Labeler_2</td>\n",
       "      <td>128</td>\n",
       "      <td>580.0</td>\n",
       "      <td>580.0</td>\n",
       "      <td>219711.0</td>\n",
       "      <td>0</td>\n",
       "      <td>0</td>\n",
       "      <td>10000.0</td>\n",
       "    </tr>\n",
       "    <tr>\n",
       "      <th>43299996</th>\n",
       "      <td>480.0</td>\n",
       "      <td>GPI</td>\n",
       "      <td>128</td>\n",
       "      <td>1200.0</td>\n",
       "      <td>666.0</td>\n",
       "      <td>261668.0</td>\n",
       "      <td>0</td>\n",
       "      <td>1</td>\n",
       "      <td>10000.0</td>\n",
       "    </tr>\n",
       "    <tr>\n",
       "      <th>43299997</th>\n",
       "      <td>480.0</td>\n",
       "      <td>SN64</td>\n",
       "      <td>128</td>\n",
       "      <td>510.0</td>\n",
       "      <td>510.0</td>\n",
       "      <td>261334.0</td>\n",
       "      <td>0</td>\n",
       "      <td>0</td>\n",
       "      <td>10000.0</td>\n",
       "    </tr>\n",
       "    <tr>\n",
       "      <th>43299998</th>\n",
       "      <td>480.0</td>\n",
       "      <td>Palletizer_1</td>\n",
       "      <td>128</td>\n",
       "      <td>1200.0</td>\n",
       "      <td>510.0</td>\n",
       "      <td>126935.0</td>\n",
       "      <td>0</td>\n",
       "      <td>1</td>\n",
       "      <td>10000.0</td>\n",
       "    </tr>\n",
       "    <tr>\n",
       "      <th>43299999</th>\n",
       "      <td>480.0</td>\n",
       "      <td>Palletizer_2</td>\n",
       "      <td>128</td>\n",
       "      <td>0.0</td>\n",
       "      <td>0.0</td>\n",
       "      <td>134399.0</td>\n",
       "      <td>0</td>\n",
       "      <td>0</td>\n",
       "      <td>10000.0</td>\n",
       "    </tr>\n",
       "  </tbody>\n",
       "</table>\n",
       "</div>"
      ],
      "text/plain": [
       "           Time       Machine State  Set speed  Actual speed     Count  \\\n",
       "43299995  480.0     Labeler_2   128      580.0         580.0  219711.0   \n",
       "43299996  480.0           GPI   128     1200.0         666.0  261668.0   \n",
       "43299997  480.0          SN64   128      510.0         510.0  261334.0   \n",
       "43299998  480.0  Palletizer_1   128     1200.0         510.0  126935.0   \n",
       "43299999  480.0  Palletizer_2   128        0.0           0.0  134399.0   \n",
       "\n",
       "          Tailback  Lack  Simulation  \n",
       "43299995         0     0     10000.0  \n",
       "43299996         0     1     10000.0  \n",
       "43299997         0     0     10000.0  \n",
       "43299998         0     1     10000.0  \n",
       "43299999         0     0     10000.0  "
      ]
     },
     "execution_count": 3,
     "metadata": {},
     "output_type": "execute_result"
    }
   ],
   "source": [
    "# Read .csv\n",
    "log = pd.read_csv('data/Sim data/sim_log_unlcap.csv', index_col=[0])\n",
    "log.tail()"
   ]
  },
  {
   "cell_type": "code",
   "execution_count": 4,
   "id": "22a9d2fb",
   "metadata": {},
   "outputs": [
    {
     "data": {
      "text/html": [
       "<div>\n",
       "<style scoped>\n",
       "    .dataframe tbody tr th:only-of-type {\n",
       "        vertical-align: middle;\n",
       "    }\n",
       "\n",
       "    .dataframe tbody tr th {\n",
       "        vertical-align: top;\n",
       "    }\n",
       "\n",
       "    .dataframe thead th {\n",
       "        text-align: right;\n",
       "    }\n",
       "</style>\n",
       "<table border=\"1\" class=\"dataframe\">\n",
       "  <thead>\n",
       "    <tr style=\"text-align: right;\">\n",
       "      <th></th>\n",
       "      <th>Time</th>\n",
       "      <th>Machine</th>\n",
       "      <th>State</th>\n",
       "      <th>Set speed</th>\n",
       "      <th>Actual speed</th>\n",
       "      <th>Count</th>\n",
       "      <th>Tailback</th>\n",
       "      <th>Lack</th>\n",
       "      <th>Simulation</th>\n",
       "    </tr>\n",
       "  </thead>\n",
       "  <tbody>\n",
       "    <tr>\n",
       "      <th>0</th>\n",
       "      <td>0.0</td>\n",
       "      <td>All</td>\n",
       "      <td>Simulation start</td>\n",
       "      <td>0.0</td>\n",
       "      <td>0.0</td>\n",
       "      <td>0.0</td>\n",
       "      <td>0</td>\n",
       "      <td>0</td>\n",
       "      <td>1.0</td>\n",
       "    </tr>\n",
       "    <tr>\n",
       "      <th>1</th>\n",
       "      <td>0.0</td>\n",
       "      <td>Depalletizer</td>\n",
       "      <td>128</td>\n",
       "      <td>6000.0</td>\n",
       "      <td>6000.0</td>\n",
       "      <td>6000.0</td>\n",
       "      <td>0</td>\n",
       "      <td>0</td>\n",
       "      <td>1.0</td>\n",
       "    </tr>\n",
       "    <tr>\n",
       "      <th>2</th>\n",
       "      <td>0.0</td>\n",
       "      <td>Filler</td>\n",
       "      <td>128</td>\n",
       "      <td>1291.0</td>\n",
       "      <td>1291.0</td>\n",
       "      <td>1291.0</td>\n",
       "      <td>0</td>\n",
       "      <td>0</td>\n",
       "      <td>1.0</td>\n",
       "    </tr>\n",
       "    <tr>\n",
       "      <th>3</th>\n",
       "      <td>0.0</td>\n",
       "      <td>Pasteurizer</td>\n",
       "      <td>128</td>\n",
       "      <td>720.0</td>\n",
       "      <td>720.0</td>\n",
       "      <td>720.0</td>\n",
       "      <td>0</td>\n",
       "      <td>0</td>\n",
       "      <td>1.0</td>\n",
       "    </tr>\n",
       "    <tr>\n",
       "      <th>4</th>\n",
       "      <td>0.0</td>\n",
       "      <td>Labeler_1</td>\n",
       "      <td>128</td>\n",
       "      <td>333.0</td>\n",
       "      <td>333.0</td>\n",
       "      <td>333.0</td>\n",
       "      <td>0</td>\n",
       "      <td>0</td>\n",
       "      <td>1.0</td>\n",
       "    </tr>\n",
       "  </tbody>\n",
       "</table>\n",
       "</div>"
      ],
      "text/plain": [
       "   Time       Machine             State  Set speed  Actual speed   Count  \\\n",
       "0   0.0           All  Simulation start        0.0           0.0     0.0   \n",
       "1   0.0  Depalletizer               128     6000.0        6000.0  6000.0   \n",
       "2   0.0        Filler               128     1291.0        1291.0  1291.0   \n",
       "3   0.0   Pasteurizer               128      720.0         720.0   720.0   \n",
       "4   0.0     Labeler_1               128      333.0         333.0   333.0   \n",
       "\n",
       "   Tailback  Lack  Simulation  \n",
       "0         0     0         1.0  \n",
       "1         0     0         1.0  \n",
       "2         0     0         1.0  \n",
       "3         0     0         1.0  \n",
       "4         0     0         1.0  "
      ]
     },
     "execution_count": 4,
     "metadata": {},
     "output_type": "execute_result"
    }
   ],
   "source": [
    "log.head()"
   ]
  },
  {
   "cell_type": "code",
   "execution_count": 44,
   "id": "9e2225e1",
   "metadata": {},
   "outputs": [],
   "source": [
    "# Create dataframe and csv per machine\n",
    "df_depal = log[log['Machine'] == 'Depalletizer']\n",
    "df_depal.to_csv('data/Sim data/depal_log.csv')\n",
    "df_filler = log[log['Machine'] == 'Filler']\n",
    "df_filler.to_csv('data/Sim data/filler_log.csv')\n",
    "df_past = log[log['Machine'] == 'Pasteurizer']\n",
    "df_past.to_csv('data/Sim data/past_log.csv')\n",
    "df_lab_1 = log[log['Machine'] == 'Labeler_1']\n",
    "df_lab_1.to_csv('data/Sim data/lab1_log.csv')\n",
    "df_lab_2 = log[log['Machine'] == 'Labeler_2']\n",
    "df_lab_2.to_csv('data/Sim data/lab2_log.csv')\n",
    "df_gpi = log[log['Machine'] == 'GPI']\n",
    "df_gpi.to_csv('data/Sim data/GPI_log.csv')\n",
    "df_SN64 = log[log['Machine'] == 'SN64']\n",
    "df_SN64.to_csv('data/Sim data/SN64_log.csv')\n",
    "df_pal1 = log[log['Machine'] == 'Palletizer_1']\n",
    "df_pal1.to_csv('data/Sim data/pal1_log.csv')\n",
    "df_pal2 = log[log['Machine'] == 'Palletizer_2']\n",
    "df_pal2.to_csv('data/Sim data/pal2_log.csv')"
   ]
  },
  {
   "cell_type": "code",
   "execution_count": 5,
   "id": "69296545",
   "metadata": {},
   "outputs": [],
   "source": [
    "# For ease of use: read machine .csv's\n",
    "df_depal = pd.read_csv('data/Sim data/depal_log.csv', index_col=[0])\n",
    "df_filler = pd.read_csv('data/Sim data/filler_log.csv', index_col=[0])\n",
    "df_past = pd.read_csv('data/Sim data/past_log.csv', index_col=[0])\n",
    "df_lab_1 = pd.read_csv('data/Sim data/lab1_log.csv', index_col=[0])\n",
    "df_lab_2 = pd.read_csv('data/Sim data/lab2_log.csv', index_col=[0])\n",
    "df_gpi = pd.read_csv('data/Sim data/GPI_log.csv', index_col=[0])\n",
    "df_SN64 = pd.read_csv('data/Sim data/SN64_log.csv', index_col=[0])\n",
    "df_pal1 = pd.read_csv('data/Sim data/pal1_log.csv', index_col=[0])\n",
    "df_pal2 = pd.read_csv('data/Sim data/pal2_log.csv', index_col=[0])"
   ]
  },
  {
   "cell_type": "markdown",
   "id": "d5c42305",
   "metadata": {},
   "source": [
    "# Analysis of the simulations"
   ]
  },
  {
   "cell_type": "markdown",
   "id": "61709857",
   "metadata": {},
   "source": [
    "## Analysis of the current situation"
   ]
  },
  {
   "cell_type": "markdown",
   "id": "69836718",
   "metadata": {},
   "source": [
    "### OPI"
   ]
  },
  {
   "cell_type": "code",
   "execution_count": 6,
   "id": "fb6f31fa",
   "metadata": {},
   "outputs": [],
   "source": [
    "# Calculate final throughput of the two palletizers\n",
    "final_throughput = log['Count'][(log['Machine'] == 'Palletizer_1') & (log['Time'] == 480)].reset_index(drop = True) + log['Count'][(log['Machine'] == 'Palletizer_2') & (log['Time'] == 480)].reset_index(drop = True)\n",
    "# Calculate OPI for the palletizers\n",
    "nominal = 1200*480\n",
    "OPI = final_throughput/nominal"
   ]
  },
  {
   "cell_type": "code",
   "execution_count": 59,
   "id": "815a4cc1",
   "metadata": {},
   "outputs": [
    {
     "name": "stdout",
     "output_type": "stream",
     "text": [
      "The average OPI is 0.413 \n",
      "The maximum OPI is 0.52 \n",
      "The minimum OPI is 0.048\n"
     ]
    },
    {
     "data": {
      "image/png": "[encoded data removed]",
      "text/plain": [
       "<Figure size 720x360 with 1 Axes>"
      ]
     },
     "metadata": {},
     "output_type": "display_data"
    }
   ],
   "source": [
    "# Plot the OPI for all simulations\n",
    "sns.set(rc = {'figure.figsize':(10,5)})\n",
    "sns.distplot(OPI, kde = False, axlabel = 'OPI').set(title='Distribution plot of the achieved OPI for 10000 simulations')\n",
    "print(f'The average OPI is {round(OPI.mean(),3)} \\nThe maximum OPI is {max(round(OPI, 3))} \\nThe minimum OPI is {round(min(OPI),3)}')"
   ]
  },
  {
   "cell_type": "markdown",
   "id": "b207f94d",
   "metadata": {},
   "source": [
    "### Lack and tailback"
   ]
  },
  {
   "cell_type": "code",
   "execution_count": 10,
   "id": "d86a7dc2",
   "metadata": {},
   "outputs": [
    {
     "ename": "NameError",
     "evalue": "name 'df_lp' is not defined",
     "output_type": "error",
     "traceback": [
      "\u001b[1;31m---------------------------------------------------------------------------\u001b[0m",
      "\u001b[1;31mNameError\u001b[0m                                 Traceback (most recent call last)",
      "\u001b[1;32mC:\\Users\\GIJSTE~1\\AppData\\Local\\Temp/ipykernel_14012/1153493886.py\u001b[0m in \u001b[0;36m<module>\u001b[1;34m\u001b[0m\n\u001b[1;32m----> 1\u001b[1;33m \u001b[0mdf_lp\u001b[0m\u001b[1;33m\u001b[0m\u001b[1;33m\u001b[0m\u001b[0m\n\u001b[0m",
      "\u001b[1;31mNameError\u001b[0m: name 'df_lp' is not defined"
     ]
    }
   ],
   "source": [
    "df_lack[['Simulation', 'Depalletizer']] = log[['Simulation', 'Lack']][(log['Machine'] == 'Depalletizer')].reset_index(drop = True)\n",
    "df_lp['Filler'] = log['Lack'][(log['Machine'] == 'Filler')].reset_index(drop = True)\n",
    "df_lp['Pasteurizer'] = log['Lack'][(log['Machine'] == 'Pasteurizer')].reset_index(drop = True)\n",
    "df_lp['Labeler'] = log['Lack'][(log['Machine'] == 'Labeler_1')].reset_index(drop = True)\n",
    "df_lp['GPI'] = log['Lack'][(log['Machine'] == 'GPI')].reset_index(drop = True)\n",
    "df_lp['SN64'] = log['Lack'][(log['Machine'] == 'SN64')].reset_index(drop = True)\n",
    "df_lp['Palletizer'] = log['Lack'][(log['Machine'] == 'Palletizer_1')].reset_index(drop = True)"
   ]
  },
  {
   "cell_type": "code",
   "execution_count": 25,
   "id": "268ceac6",
   "metadata": {},
   "outputs": [],
   "source": [
    "lack_filler = []\n",
    "lack_pasteurizer = []\n",
    "lack_labeler = []\n",
    "lack_GPI = []\n",
    "lack_SN64 = []\n",
    "lack_pal = []\n",
    "for i in range(1000):    \n",
    "    lack_filler.append(len(df_filler[['Time']][(df_filler['Lack'] == 1) & (df_filler['Simulation'] == i)]))\n",
    "    lack_pasteurizer.append(len(df_past[['Time']][(df_past['Lack'] == 1) & (df_past['Simulation'] == i)]))\n",
    "    lack_labeler.append(len(df_lab_1[['Time']][(df_lab_1['Lack'] == 1) & (df_lab_1['Simulation'] == i)]))\n",
    "    lack_GPI.append(len(df_gpi[['Time']][(df_gpi['Lack'] == 1) & (df_gpi['Simulation'] == i)]))\n",
    "    lack_SN64.append(len(df_SN64[['Time']][(df_SN64['Lack'] == 1) & (df_SN64['Simulation'] == i)]))\n",
    "    lack_pal.append(len(df_pal1[['Time']][(df_pal1['Lack'] == 1) & (df_pal1['Simulation'] == i)]))"
   ]
  },
  {
   "cell_type": "code",
   "execution_count": 52,
   "id": "811fba2f",
   "metadata": {},
   "outputs": [
    {
     "data": {
      "text/plain": [
       "<function matplotlib.pyplot.show(close=None, block=None)>"
      ]
     },
     "execution_count": 52,
     "metadata": {},
     "output_type": "execute_result"
    },
    {
     "data": {
      "image/png": "[encoded data removed]",
      "text/plain": [
       "<Figure size 720x360 with 1 Axes>"
      ]
     },
     "metadata": {},
     "output_type": "display_data"
    }
   ],
   "source": [
    "sns.set(rc = {'figure.figsize':(10,5)})\n",
    "sns.distplot(lack_filler, kde = False, label = 'Filler')\n",
    "sns.distplot(lack_pasteurizer, kde = False, label = 'Pasteurizer')\n",
    "sns.distplot(lack_labeler, kde = False, label = 'Labeler')\n",
    "sns.distplot(lack_GPI, kde = False, label = 'GPI')\n",
    "sns.distplot(lack_SN64, kde = False, label = 'SN64')\n",
    "sns.distplot(lack_pal, kde = False, label = 'Palletizer')\n",
    "plt.legend(labels = ['Filler', 'Pasteurizer', 'Labeler', 'GPI', 'SN64', 'Palletizer'])\n",
    "plt.xlim(0, 20)\n",
    "plt.show"
   ]
  },
  {
   "cell_type": "code",
   "execution_count": 58,
   "id": "95f2ec23",
   "metadata": {},
   "outputs": [
    {
     "data": {
      "text/plain": [
       "<function matplotlib.pyplot.show(close=None, block=None)>"
      ]
     },
     "execution_count": 58,
     "metadata": {},
     "output_type": "execute_result"
    },
    {
     "data": {
      "image/png": "[encoded data removed]",
      "text/plain": [
       "<Figure size 720x360 with 1 Axes>"
      ]
     },
     "metadata": {},
     "output_type": "display_data"
    }
   ],
   "source": [
    "sns.distplot(lack_pal, kde = False, label = 'Palletizer')\n",
    "plt.xlim(0,)\n",
    "plt.show"
   ]
  }
 ],
 "metadata": {
  "kernelspec": {
   "display_name": "Python 3 (ipykernel)",
   "language": "python",
   "name": "python3"
  },
  "language_info": {
   "codemirror_mode": {
    "name": "ipython",
    "version": 3
   },
   "file_extension": ".py",
   "mimetype": "text/x-python",
   "name": "python",
   "nbconvert_exporter": "python",
   "pygments_lexer": "ipython3",
   "version": "3.9.7"
  }
 },
 "nbformat": 4,
 "nbformat_minor": 5
}
