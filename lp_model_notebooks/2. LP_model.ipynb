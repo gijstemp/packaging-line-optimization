{
 "cells": [
  {
   "cell_type": "code",
   "execution_count": 4,
   "id": "96800844",
   "metadata": {},
   "outputs": [],
   "source": [
    "import pandas as pd\n",
    "#import gurobipy as grb\n",
    "from datetime import datetime\n",
    "import seaborn as sns\n",
    "import matplotlib.pyplot as plt"
   ]
  },
  {
   "cell_type": "markdown",
   "id": "9ce7b5af",
   "metadata": {},
   "source": [
    "# Retrieving and processing simulation data\n",
    "The data set that was obtained form the simulation is now added into this notebook. After that a bit of processing is done to get the data set in the right format"
   ]
  },
  {
   "cell_type": "code",
   "execution_count": 5,
   "id": "9b115cd3",
   "metadata": {},
   "outputs": [],
   "source": [
    "# ADD DATAFRAME WITH DATA FROM SIMULATION\n",
    "df = pd.read_csv('../data/linprog_df.csv')\n",
    "df.drop('Time', axis = 1, inplace = True)\n",
    "df.insert(len(df.columns)-1, 'Simulation', df.pop('Simulation'))"
   ]
  },
  {
   "cell_type": "markdown",
   "id": "411884f4",
   "metadata": {},
   "source": [
    "# Model formulations\n",
    "The goal of this linear optimization model is to determine the optimal values for $k_i$, the max buffer sizes for each buffer. The data given is the processing speeds (v) per minute (t) per machine, the maximum capacity of all buffers combined and the total amount of time running.\n",
    "\n",
    "## Sets and indices\n",
    " - *t* $\\in$ Time = {1,2,...,10} : production time\n",
    " - *j* $\\in$ Buffers = {0, 1, 2, 3, 4, 5} : set of buffers\n",
    " - *i* $\\in$ Machines = {1, 2, 3, 4, 5} : set of machines\n",
    " \n",
    "## Parameters\n",
    " - *th*$_i(t)$ $\\in$ $\\mathbb{R}_0^+$ : The throughput of every machine *i* at time (t), $\\forall$ *i* $\\in$ {1, 2, 3, 4, 5}\n",
    " - *v*$_i(t)$* $\\in$ $\\mathbb{N}_0$: The speed of machine *i* at time (t)\n",
    " - *b*$_j(t)$ $\\in$ $\\mathbb{R}_0^+$: The actual amount of products in the buffer at a point in time (t), $\\forall$ *i* $\\in$ {1, 2, 3, 4}\n",
    " - *k*$_{max}$ : The max amount of products in all buffers at the same time.\n",
    " \n",
    "## Decision Variables\n",
    " - *k*$_j$ $\\in$ $\\mathbb{N}_0$: The maximum capacity of each corresponding buffer, $\\forall$ *j* $\\in$ {1, 2, 3, 4, 5}\n",
    "\n",
    "**Assumption**: We can produce and store fractional units. These will get rounded at the end.\n",
    " \n",
    "## Objective function\n",
    "Maximize the total amount of products in the last buffer. This means that the production of the whole line is maximized.\n",
    "\n",
    "\\begin{equation}\n",
    "\\text{max.} \\quad \\sum_{t \\in T} b_5(t)\n",
    "\\end{equation}\n",
    "\n",
    "## Constraints\n",
    "**Throughput Machine 5 1**\n",
    " - $th_5(t) \\leq v_5(t)$ : The throughput of machine 5 cannot exceed the speed of machine 5.\n",
    "\n",
    "**Throughput Machine 5 2**\n",
    " - $th_5(t) \\leq b_4(t-1)$ : The throughput of machine 5 cannot exceed the amount of products in buffer $b_4$.\n",
    "\n",
    "**Ammount buffer 5**\n",
    " - $b_5(t) = th_5$ : The amount of products coming into buffer $b_5$ is equal to the throughput of machine 5.\n",
    "\n",
    "**Buffer max**\n",
    " - $b_j(t) \\leq k_j$ : The amount of products in buffer $b_j$ cannot exceed the maximum capacity $k_j$.\n",
    "\n",
    "**Amount buffers 1**\n",
    " - $b_j(t) \\leq b_j(t-1) - th_{i+1}(t) + v_i(t)$ : The amount of products coming into buffer $b_j$ at *(t)* cannot exceed the amount of units in the buffer $b_j$ at *(t-1)* minus the throughput of the next machine plus the speed of the previous machione at *(t)*.\n",
    "\n",
    "**Amount buffers 2**\n",
    " - $b_j(t) \\leq b_j(t-1) - th_{i+1}(t) + b_{j-1}(t-1)$ : The amount of products coming into buffer $b_j$ at *(t)* cannot exceed the amount of units in the buffer $b_j$ at *(t-1)* minus the throughput of the next machine at *(t)* plus the amount of products in the previous buffer at *(t-1)* .\n",
    "\n",
    "**Throughput machines**\n",
    " - $th_i(t) = b_j(t) - b_j(t-1) - th_{i+1}(t)$ : The throughput of machine *i* is equal to the amount of units in the buffer at time *(t)* minus the difference between the previous amount in buffer $b_j$ and the throughput of the following machine at time *(t)*.\n",
    " \n",
    "**Max. Total buffer capacity**\n",
    " - $k_1 + k_2 + k_3 + k_4 \\leq 40$ - This states that the max capacity of all buffers summed up cannot exceed 40 units. (This only caounts for the small test data sets as of now)\n",
    " \n",
    "And everything has to be positive."
   ]
  },
  {
   "cell_type": "code",
   "execution_count": 6,
   "id": "c91d2327",
   "metadata": {},
   "outputs": [],
   "source": [
    "# Create dictionary to save values\n",
    "opt_values = []"
   ]
  },
  {
   "cell_type": "code",
   "execution_count": null,
   "id": "40d5b7aa",
   "metadata": {},
   "outputs": [],
   "source": [
    "begin = datetime.now()\n",
    "for sim in range(10):\n",
    "    speed = df[df['Simulation'] == (sim+1)].reset_index(drop = True)\n",
    "    speed.drop('Simulation', axis=1, inplace = True)\n",
    "    speed = speed.transpose()\n",
    "\n",
    "    # DATA INPUT\n",
    "    machines = [i+1 for i in range(7)]  # there are 7 machines and machines start with 1\n",
    "    times = [i for i in range(481)]  # The runtime of the simulated data is 480 minutes\n",
    "    buffers = [i for i in range(8)]  # There are 8 buffers and buffers start with 0\n",
    "\n",
    "    # PARAMETERS\n",
    "    maximum_capacity_all_buffers = 50000\n",
    "    pspeed = {(i,t): speed.iloc[i-1, t] for i in machines for t in times}\n",
    "    #INITIALIZATION\n",
    "    model = grb.Model()\n",
    "\n",
    "    #VARIABLES\n",
    "    throughput = {(i, t): model.addVar(lb=0, vtype=grb.GRB.CONTINUOUS, name=f\"th_M{i}(T{t})\") for i in machines for t in times} \n",
    "    buffer = {(j, t): model.addVar(lb=0, vtype=grb.GRB.CONTINUOUS, name=f\"buffer_B{j}(T{t})\") for j in buffers for t in times} \n",
    "    max_cap_buffer = {j: model.addVar(lb=0, vtype=grb.GRB.CONTINUOUS, name=f\"max_buffer_B{j}\") for j in buffers} \n",
    "    obj_func = model.addVar(lb=0, vtype=grb.GRB.CONTINUOUS, name=\"obj\")\n",
    "\n",
    "    # CONSTRAINTS\n",
    "    # THROUGHPUT MACHINE 7 1\n",
    "    for t in times: \n",
    "        th7_1 = model.addConstr(throughput[(7,t)], grb.GRB.LESS_EQUAL, pspeed[(7,t)], name=f\"Throughput1_Machine7_T{t}\") \n",
    "    # THROUGHPUT MACHINE 7 2\n",
    "    for t in times: \n",
    "        th5_2 = model.addConstr(throughput[(7,t)], grb.GRB.LESS_EQUAL, buffer[(7,t)], name=f\"Throughput2_Machine7_T{t}\")\n",
    "    # AMOUNT BUFFER 7\n",
    "    for t in times: \n",
    "        b5 = model.addConstr(throughput[(7,t)], grb.GRB.EQUAL, buffer[(7,t)], name=f\"AmountBuffer_Machine7_T{t}\")\n",
    "    # BUFFER MAX\n",
    "    for j in buffers[1:-1]: \n",
    "        for t in times: \n",
    "            bmax = model.addConstr(buffer[(j,t)], grb.GRB.LESS_EQUAL, max_cap_buffer[j], name=f\"Max_Single_Buffer_B{j}_T{t}\")\n",
    "    # AMOUNT BUFFERS\n",
    "    for j in buffers[1:-1]: \n",
    "        for t in times[1:]: \n",
    "            amount_b_1 = model.addConstr(buffer[(j, t)], grb.GRB.LESS_EQUAL, buffer[(j, t-1)] - throughput[(j+1, t)] + pspeed[(j, t)]) \n",
    "            amount_b_2 = model.addConstr(buffer[(j, t)], grb.GRB.LESS_EQUAL, buffer[(j, t-1)] - throughput[(j+1, t)] + buffer[(j-1, t-1)])\n",
    "    # THROUGHPUT MACHINES\n",
    "    for i in machines[:-1]:\n",
    "        for j in buffers:\n",
    "            for t in times[1:]: \n",
    "                th_all = model.addConstr(throughput[(i,t)], grb.GRB.EQUAL, buffer[(j,t)] - buffer[(j, t-1)] + throughput[(i+1, t)] )\n",
    "    # MAX TOTAL BUFFER\n",
    "    model.addConstr(grb.quicksum(max_cap_buffer[j] for j in buffers[1:-1]), grb.GRB.LESS_EQUAL, maximum_capacity_all_buffers, name=\"Max_Total_Buffer\")\n",
    "    # OBJECTIVE FUNCTION CONSTRAINT\n",
    "    model.addConstr(obj_func, grb.GRB.LESS_EQUAL, grb.quicksum(buffer[(7,t)] for t in times), name=\"obj_func_constraint\")\n",
    "\n",
    "    # OBJECTIVE FUNCTION\n",
    "    model.setObjective(obj_func, grb.GRB.MAXIMIZE)\n",
    "\n",
    "    # OPTIMIZATION\n",
    "    model.optimize() \n",
    "    model.write(\"BAP_optimization.lp\")\n",
    "\n",
    "    if not model.status == grb.GRB.OPTIMAL:\n",
    "        print(\"something went wrong\")\n",
    "\n",
    "    # SOLUTION\n",
    "    opt_values.append({'Sim': sim+1,\n",
    "                  'Buffer 1': max_cap_buffer[1].X,\n",
    "                  'Buffer 2': max_cap_buffer[2].X,\n",
    "                  'Buffer 3': max_cap_buffer[3].X,\n",
    "                  'Buffer 4': max_cap_buffer[4].X,\n",
    "                  'Buffer 5': max_cap_buffer[5].X,\n",
    "                  'Buffer 6': max_cap_buffer[6].X})\n",
    "print(datetime.now() - begin)"
   ]
  },
  {
   "cell_type": "code",
   "execution_count": null,
   "id": "957863da",
   "metadata": {},
   "outputs": [],
   "source": [
    "df_optvalues = pd.DataFrame(opt_values)\n",
    "df_optvalues.drop('Sim', axis = 1, inplace = True)\n",
    "df_optvalues = df_optvalues[(df_optvalues.T != 0).any()]\n",
    "df_optvalues"
   ]
  },
  {
   "cell_type": "code",
   "execution_count": null,
   "id": "8e827483",
   "metadata": {},
   "outputs": [],
   "source": [
    "df_optvalues.mean()"
   ]
  },
  {
   "cell_type": "code",
   "execution_count": null,
   "id": "768cead2",
   "metadata": {},
   "outputs": [],
   "source": [
    "sns.set(rc = {'figure.figsize':(10,5)})\n",
    "sns.distplot(df_optvalues['Buffer 1'], kde = False)\n",
    "plt.show"
   ]
  },
  {
   "cell_type": "code",
   "execution_count": null,
   "id": "0ce74589",
   "metadata": {},
   "outputs": [],
   "source": []
  }
 ],
 "metadata": {
  "kernelspec": {
   "display_name": "learningEnv",
   "language": "python",
   "name": "python3"
  },
  "language_info": {
   "codemirror_mode": {
    "name": "ipython",
    "version": 3
   },
   "file_extension": ".py",
   "mimetype": "text/x-python",
   "name": "python",
   "nbconvert_exporter": "python",
   "pygments_lexer": "ipython3",
   "version": "3.9.15"
  },
  "vscode": {
   "interpreter": {
    "hash": "0c598442317287c7f6b463683a902a3f69c55677a9bcbf1c863c4a2196dfb01a"
   }
  }
 },
 "nbformat": 4,
 "nbformat_minor": 5
}
